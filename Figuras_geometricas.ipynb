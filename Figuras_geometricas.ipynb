{
 "cells": [
  {
   "cell_type": "markdown",
   "id": "462abe91",
   "metadata": {},
   "source": [
    "# ¿Qué es un for?\n",
    "\n",
    "### Básicamente un ciclo, que por defecto inicia en 0 y va hasta n-1 repitiendo el código que esté dentro."
   ]
  },
  {
   "cell_type": "code",
   "execution_count": 7,
   "id": "404cfe83",
   "metadata": {},
   "outputs": [
    {
     "name": "stdout",
     "output_type": "stream",
     "text": [
      "0 1 2 3 4 "
     ]
    }
   ],
   "source": [
    "#Se trabajará con un n=5, es decir, 5 iteraciones.\n",
    "n=5\n",
    "\n",
    "for i in range (n):\n",
    "    print(i,end=\" \")"
   ]
  },
  {
   "cell_type": "markdown",
   "id": "37bcd8f7",
   "metadata": {},
   "source": [
    "## Con esto en mente... ¿Cómo podríamos hacer un cuadrado?\n",
    "### Para esto, es necesario \"anidar\" dos 'for', de esta forma se ejecutaría lo siguiente:\n",
    "Para n=5\n",
    "- i=0   j=0 1 2 3 4\n",
    "- i=1   j=0 1 2 3 4\n",
    "- i=2   j=0 1 2 3 4\n",
    "- i=3   j=0 1 2 3 4\n",
    "- i=4   j=0 1 2 3 4"
   ]
  },
  {
   "cell_type": "code",
   "execution_count": 15,
   "id": "e1d79f58",
   "metadata": {},
   "outputs": [
    {
     "name": "stdout",
     "output_type": "stream",
     "text": [
      "* * * * * \n",
      "* * * * * \n",
      "* * * * * \n",
      "* * * * * \n",
      "* * * * * \n"
     ]
    }
   ],
   "source": [
    "n=5\n",
    "\n",
    "for i in range(n):\n",
    "    for j in range (n):\n",
    "        print(\"*\",end=\" \") #end=\" \" deja un espaciado, esto solo para que sea mas notorio visualmente\n",
    "    print(end=\"\\n\") #end=\"\\n\" salto de linea, esto es necesario para notar cada iteración"
   ]
  },
  {
   "cell_type": "markdown",
   "id": "19f4c3ab",
   "metadata": {},
   "source": [
    "Cuando i=0 , realiza la primera fila de asteriscos (con j=0 1 2 3 4), una vez ejecutado las 5 iteraciones de j, llega a un salto de lineas (ya fuera del for de j), para la próxima fila, con i=1."
   ]
  },
  {
   "cell_type": "markdown",
   "id": "24e268ee",
   "metadata": {},
   "source": [
    "## Rectangulo"
   ]
  },
  {
   "cell_type": "code",
   "execution_count": 8,
   "id": "7a6aa155",
   "metadata": {},
   "outputs": [
    {
     "name": "stdout",
     "output_type": "stream",
     "text": [
      "* * * * * * * * * * \n",
      "* * * * * * * * * * \n",
      "* * * * * * * * * * \n",
      "* * * * * * * * * * \n",
      "* * * * * * * * * * \n",
      "\n",
      "* * * * * \n",
      "* * * * * \n",
      "* * * * * \n",
      "* * * * * \n",
      "* * * * * \n",
      "* * * * * \n",
      "* * * * * \n",
      "* * * * * \n",
      "* * * * * \n",
      "* * * * * \n"
     ]
    }
   ],
   "source": [
    "n=5\n",
    "m=10\n",
    "for i in range(n): #altura\n",
    "    for j in range(m):#ancho \n",
    "        print(\"*\",end=\" \")\n",
    "    print(end=\"\\n\")\n",
    "\n",
    "print(end=\"\\n\")\n",
    "    \n",
    "for i in range(m): #altura\n",
    "    for j in range(n):#ancho \n",
    "        print(\"*\",end=\" \")\n",
    "    print(end=\"\\n\")"
   ]
  },
  {
   "cell_type": "markdown",
   "id": "83f2be1e",
   "metadata": {},
   "source": [
    "### Triangulos\n",
    "Para formar triangulos debemos saber qué forma quiere tener, por ejemplo, queremos un triangulo con un ángulo de 90º equilátero , con una base que nosotros decidiremos (como n)"
   ]
  },
  {
   "cell_type": "code",
   "execution_count": 49,
   "id": "7198edf3",
   "metadata": {},
   "outputs": [
    {
     "name": "stdout",
     "output_type": "stream",
     "text": [
      "* \n",
      "* * \n",
      "* * * \n",
      "* * * * \n",
      "* * * * * \n"
     ]
    }
   ],
   "source": [
    "#Posicion (1)\n",
    "n=5\n",
    "\n",
    "for i in range(n):\n",
    "    for j in range(i+1):\n",
    "        print(\"*\",end=\" \")\n",
    "    print(end=\"\\n\")\n",
    "\n",
    "#En este ejemplo se construye de forma que el for llega hasta i+1, entonces, númericamente sería:\n",
    "#i=0 j=0\n",
    "#i=1 j=0 1\n",
    "#i=2 j=0 1 2\n",
    "#i=3 j=0 1 2 3\n",
    "#i=4 j=0 1 2 3 4"
   ]
  },
  {
   "cell_type": "code",
   "execution_count": 52,
   "id": "d7106a9f",
   "metadata": {},
   "outputs": [
    {
     "name": "stdout",
     "output_type": "stream",
     "text": [
      "* * * * * \n",
      "* * * * \n",
      "* * * \n",
      "* * \n",
      "* \n",
      "\n",
      "* * * * * \n",
      "* * * *   \n",
      "* * *     \n",
      "* *       \n",
      "*         \n"
     ]
    }
   ],
   "source": [
    "#Posicion (2)\n",
    "n=5\n",
    "\n",
    "for i in range(n):\n",
    "    for j in range(n):\n",
    "        if (j+1>i):\n",
    "            print(\"*\",end=\" \")\n",
    "    print(end=\"\\n\")\n",
    "\n",
    "print (end=\"\\n\")\n",
    "\n",
    "#Por supuesto, existen varias formas de hacer lo mismo\n",
    "\n",
    "for i in range(n):\n",
    "    for j in range(n):\n",
    "        if (n-i<=j):\n",
    "            print(\" \",end=\" \")\n",
    "        else:\n",
    "            print(\"*\",end=\" \")\n",
    "    print(end=\"\\n\")"
   ]
  },
  {
   "cell_type": "code",
   "execution_count": 22,
   "id": "ed6ed955",
   "metadata": {},
   "outputs": [
    {
     "name": "stdout",
     "output_type": "stream",
     "text": [
      "* * * * * \n",
      "  * * * * \n",
      "    * * * \n",
      "      * * \n",
      "        * \n"
     ]
    }
   ],
   "source": [
    "#Posicion (3)\n",
    "n=5\n",
    "\n",
    "for i in range(n):\n",
    "    for j in range(n):\n",
    "        if (j+1>i):\n",
    "            print(\"*\",end=\" \")\n",
    "        else: print(\" \",end=\" \")\n",
    "    print(end=\"\\n\")"
   ]
  },
  {
   "cell_type": "code",
   "execution_count": 47,
   "id": "1ae8b760",
   "metadata": {},
   "outputs": [
    {
     "name": "stdout",
     "output_type": "stream",
     "text": [
      "        * \n",
      "      * * \n",
      "    * * * \n",
      "  * * * * \n",
      "* * * * * \n"
     ]
    }
   ],
   "source": [
    "#Posicion (4)\n",
    "n=5\n",
    "\n",
    "for i in range(n):\n",
    "    for j in range(n):\n",
    "        if (n-1-i<=j):\n",
    "            print(\"*\",end=\" \")\n",
    "        else:\n",
    "            print(\" \",end=\" \")\n",
    "    print(end=\"\\n\")\n"
   ]
  },
  {
   "cell_type": "markdown",
   "id": "dd75eee0",
   "metadata": {},
   "source": [
    "### ¿Que pasaría si quisieramos dos triangulos adyacentes?\n",
    "Simplemente deberíamos agregarlos a un for general, por ejemplo, para formar un triangulo isóceles habría que juntar (4) y (1) con una modificación pequeña, de esta forma:"
   ]
  },
  {
   "cell_type": "code",
   "execution_count": 31,
   "id": "c7474a55",
   "metadata": {},
   "outputs": [
    {
     "name": "stdout",
     "output_type": "stream",
     "text": [
      "        * \n",
      "      * * * \n",
      "    * * * * * \n",
      "  * * * * * * * \n",
      "* * * * * * * * * \n"
     ]
    }
   ],
   "source": [
    "#Para este caso la base estaría dada por (n*2)-1, si n=5, la base es (5*2)-1 = 9 (siempre será impar)\n",
    "#con los lados isoceles igual a n=5.\n",
    "n=5\n",
    "for i in range(n):\n",
    "    #(4)\n",
    "    for j in range(n):\n",
    "        if (n-1-i<=j):\n",
    "            print(\"*\",end=\" \")\n",
    "        else:\n",
    "            print(\" \",end=\" \")\n",
    "    #(1)\n",
    "    for j in range(i): # <- Aquí se modificó,si dejaramos i+1 quedaría un triangulo pegado\n",
    "        print(\"*\",end=\" \")\n",
    "    \n",
    "    print(end=\"\\n\")\n",
    "            "
   ]
  },
  {
   "cell_type": "code",
   "execution_count": 43,
   "id": "4b59da6f",
   "metadata": {},
   "outputs": [
    {
     "name": "stdout",
     "output_type": "stream",
     "text": [
      "        *                 *         \n",
      "      * * *             * * *       \n",
      "    * * * * *         * * * * *     \n",
      "  * * * * * * *     * * * * * * *   \n",
      "* * * * * * * * * * * * * * * * * * \n"
     ]
    }
   ],
   "source": [
    "#multiples triangulos\n",
    "n=5\n",
    "veces=2\n",
    "\n",
    "for i in range(n):\n",
    "    #(4)\n",
    "    for c in range (veces):\n",
    "        for j in range(n):\n",
    "            if (n-1-i<=j):\n",
    "                print(\"*\",end=\" \")\n",
    "            else:\n",
    "                print(\" \",end=\" \")\n",
    "\n",
    "        #(1)\n",
    "        for j in range(n):\n",
    "            if (j<i):\n",
    "                print(\"*\",end=\" \")\n",
    "            elif (j>i):\n",
    "                print(\" \",end=\" \")\n",
    "\n",
    "    print(end=\"\\n\")\n",
    "            "
   ]
  },
  {
   "cell_type": "code",
   "execution_count": 51,
   "id": "f0b3be6f",
   "metadata": {},
   "outputs": [
    {
     "name": "stdout",
     "output_type": "stream",
     "text": [
      "        *         \n",
      "      * * *       \n",
      "    * * * * *     \n",
      "  * * * * * * *   \n",
      "* * * * * * * * * \n",
      "        *         \n",
      "      * * *       \n",
      "    * * * * *     \n",
      "  * * * * * * *   \n",
      "* * * * * * * * * \n"
     ]
    }
   ],
   "source": [
    "n=5\n",
    "veces=2\n",
    "\n",
    "for c in range (veces):\n",
    "    for i in range(n):\n",
    "        #(4)\n",
    "        for j in range(n):\n",
    "            if (n-1-i<=j):\n",
    "                print(\"*\",end=\" \")\n",
    "            else:\n",
    "                print(\" \",end=\" \")\n",
    "\n",
    "        #(1)\n",
    "        for j in range(n):\n",
    "            if (j<i):\n",
    "                print(\"*\",end=\" \")\n",
    "            elif (j>i):\n",
    "                print(\" \",end=\" \")\n",
    "\n",
    "        print(end=\"\\n\")"
   ]
  },
  {
   "cell_type": "markdown",
   "id": "5ca5075f",
   "metadata": {},
   "source": [
    "## Rombo"
   ]
  },
  {
   "cell_type": "code",
   "execution_count": 4,
   "id": "11236564",
   "metadata": {},
   "outputs": [
    {
     "name": "stdout",
     "output_type": "stream",
     "text": [
      "        * * * * * \n",
      "      * * * * *   \n",
      "    * * * * *     \n",
      "  * * * * *       \n",
      "* * * * *         \n"
     ]
    }
   ],
   "source": [
    "#Para (4) y (2)\n",
    "#Rombo\n",
    "n=5\n",
    "for i in range(n):\n",
    "    #(4)\n",
    "    for j in range(n-1): #Unico cambio para que sea de base 5\n",
    "        if (n-1-i<=j):\n",
    "            print(\"*\",end=\" \")\n",
    "        else:\n",
    "            print(\" \",end=\" \")\n",
    "    #(2)\n",
    "    for j in range(n):\n",
    "        if (n-i<=j):\n",
    "            print(\" \",end=\" \")\n",
    "        else:\n",
    "            print(\"*\",end=\" \")\n",
    "    print(end=\"\\n\")"
   ]
  },
  {
   "cell_type": "markdown",
   "id": "c5094a69",
   "metadata": {},
   "source": [
    "## Figuras con patrones\n"
   ]
  },
  {
   "cell_type": "code",
   "execution_count": 14,
   "id": "b5027cb0",
   "metadata": {},
   "outputs": [
    {
     "name": "stdout",
     "output_type": "stream",
     "text": [
      "*   *   * \n",
      "  *   *   \n",
      "*   *   * \n",
      "  *   *   \n",
      "*   *   * \n"
     ]
    }
   ],
   "source": [
    "n=5\n",
    "\n",
    "for i in range(n):\n",
    "    for j in range (n):\n",
    "        if ((i%2==0) & (j%2==0)):  \n",
    "            print(\"*\",end=\" \")\n",
    "            \n",
    "        elif ((i%2==1) & (j%2==1)):\n",
    "            print(\"*\",end=\" \")\n",
    "            \n",
    "        else:\n",
    "            print(\" \",end = \" \")\n",
    "        \n",
    "    print(end=\"\\n\")"
   ]
  },
  {
   "cell_type": "code",
   "execution_count": 28,
   "id": "2b7504cb",
   "metadata": {},
   "outputs": [
    {
     "name": "stdout",
     "output_type": "stream",
     "text": [
      "* * * * * \n",
      "*       * \n",
      "*       * \n",
      "*       * \n",
      "* * * * * \n"
     ]
    }
   ],
   "source": [
    "n=5\n",
    "\n",
    "for i in range(n):\n",
    "    for j in range (n):\n",
    "        if ((i==0) or (i==n-1)  or (j==0) or (j==(n-1))):\n",
    "            print(\"*\",end=\" \")\n",
    "        else:\n",
    "            print(\" \",end = \" \")\n",
    "    print(end=\"\\n\")"
   ]
  },
  {
   "cell_type": "code",
   "execution_count": 30,
   "id": "45d8fa5f",
   "metadata": {},
   "outputs": [
    {
     "name": "stdout",
     "output_type": "stream",
     "text": [
      "*         \n",
      "* *       \n",
      "*   *     \n",
      "*     *   \n",
      "* * * * * \n"
     ]
    }
   ],
   "source": [
    "n=5\n",
    "\n",
    "for i in range(n):\n",
    "    for j in range (n):\n",
    "        if ((i==j) or (i==n-1)  or (j==0)):\n",
    "            print(\"*\",end=\" \")\n",
    "        else:\n",
    "            print(\" \",end = \" \")\n",
    "    print(end=\"\\n\")"
   ]
  },
  {
   "cell_type": "code",
   "execution_count": 42,
   "id": "a663f89f",
   "metadata": {},
   "outputs": [
    {
     "name": "stdout",
     "output_type": "stream",
     "text": [
      "        * \n",
      "      *   * \n",
      "    *       * \n",
      "  *           * \n",
      "* * * * * * * * * \n"
     ]
    }
   ],
   "source": [
    "\n",
    "n=5\n",
    "for i in range(n):\n",
    "    #(4)\n",
    "    for j in range(n):\n",
    "        if ((n-1-i<=j) & (abs(i+j)==n-1) or (i==n-1) ):\n",
    "            print(\"*\",end=\" \")\n",
    "        else:\n",
    "            print(\" \",end=\" \")\n",
    "    #(1)\n",
    "    for j in range(i): \n",
    "        if ((j==i-1) or (i==n-1)):\n",
    "            print(\"*\",end=\" \")\n",
    "        else:\n",
    "            print(\" \",end=\" \")\n",
    "            \n",
    "    print(end=\"\\n\")\n",
    "            "
   ]
  },
  {
   "cell_type": "code",
   "execution_count": 69,
   "id": "789a1be0",
   "metadata": {},
   "outputs": [
    {
     "name": "stdout",
     "output_type": "stream",
     "text": [
      "\n",
      "    * * * \n",
      "*   * * * \n",
      "*       * \n",
      "* * *   * \n",
      "* * *     \n"
     ]
    }
   ],
   "source": [
    "n=5\n",
    "print(end=\"\\n\")\n",
    "for i in range(n):\n",
    "    for j in range(n):\n",
    "        if (i>j+(j%2) or i<j-(j%2)): # i>j+(j%2) equivale al triangulo izquierdo e i<j-(j%2) al derecho\n",
    "            print(\"*\",end=\" \")\n",
    "        else:\n",
    "            print(\" \",end=\" \")\n",
    "    print(end=\"\\n\")\n"
   ]
  },
  {
   "cell_type": "code",
   "execution_count": null,
   "id": "c988fb95",
   "metadata": {},
   "outputs": [],
   "source": []
  }
 ],
 "metadata": {
  "kernelspec": {
   "display_name": "Python 3 (ipykernel)",
   "language": "python",
   "name": "python3"
  },
  "language_info": {
   "codemirror_mode": {
    "name": "ipython",
    "version": 3
   },
   "file_extension": ".py",
   "mimetype": "text/x-python",
   "name": "python",
   "nbconvert_exporter": "python",
   "pygments_lexer": "ipython3",
   "version": "3.9.6"
  }
 },
 "nbformat": 4,
 "nbformat_minor": 5
}
